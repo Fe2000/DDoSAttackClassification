{
 "cells": [
  {
   "cell_type": "code",
   "execution_count": null,
   "metadata": {},
   "outputs": [],
   "source": [
    "# Forcing autoreload of modules so restart is not required\n",
    "%load_ext autoreload\n",
    "%autoreload 2\n",
    "\n",
    "import os\n",
    "\n",
    "os.chdir(\"../../\")\n",
    "\n",
    "\n",
    "print(\"Current Working Directory:  \", os.getcwd())"
   ]
  },
  {
   "cell_type": "code",
   "execution_count": 2,
   "metadata": {},
   "outputs": [],
   "source": [
    "import torch\n",
    "import torch.nn as nn\n",
    "import torch.nn.functional as F\n",
    "import pandas as pd\n",
    "from torch.utils.data import DataLoader, TensorDataset\n",
    "import torch.optim as optim\n",
    "import matplotlib.pyplot as plt"
   ]
  },
  {
   "cell_type": "code",
   "execution_count": 3,
   "metadata": {},
   "outputs": [],
   "source": [
    "X_train = pd.read_csv('./data/processed/NSL_KDD/multi_class/X_train.csv',low_memory=False)\n",
    "Y_train = pd.read_csv('./data/processed/NSL_KDD/multi_class/Y_train.csv',low_memory=False)\n",
    "\n",
    "\n",
    "X_test = pd.read_csv('./data/processed/NSL_KDD/multi_class/X_test.csv',low_memory=False)\n",
    "Y_test = pd.read_csv('./data/processed/NSL_KDD/multi_class/Y_test.csv',low_memory=False)"
   ]
  },
  {
   "cell_type": "code",
   "execution_count": 4,
   "metadata": {},
   "outputs": [
    {
     "data": {
      "text/plain": [
       "class\n",
       "0    9711\n",
       "2    7092\n",
       "1    5741\n",
       "Name: count, dtype: int64"
      ]
     },
     "execution_count": 4,
     "metadata": {},
     "output_type": "execute_result"
    }
   ],
   "source": [
    "Y_test['class'].value_counts()"
   ]
  },
  {
   "cell_type": "code",
   "execution_count": null,
   "metadata": {},
   "outputs": [],
   "source": [
    "class VAEClassifier(nn.Module):\n",
    "\tdef __init__(self, input_dim=123, hidden_dim=64, latent_dim=32, num_classes=3):\n",
    "\t\tsuper(VAEClassifier, self).__init__()\n",
    "\t\t\n",
    "\t\t# Encoder\n",
    "\t\tself.fc1 = nn.Linear(input_dim, hidden_dim)\n",
    "\t\tself.fc_mu = nn.Linear(hidden_dim, latent_dim)\n",
    "\t\tself.fc_logvar = nn.Linear(hidden_dim, latent_dim)\n",
    "\t\t\n",
    "\t\t# Decoder\n",
    "\t\tself.decoder = nn.Sequential(\n",
    "\t\t\tnn.Linear(latent_dim, hidden_dim),\n",
    "\t\t\tnn.ReLU(),\n",
    "\t\t\tnn.Linear(hidden_dim, input_dim),\n",
    "\t\t\tnn.Sigmoid()\n",
    "\t\t)\n",
    "\t\t\n",
    "\t\t# Classifier head\n",
    "\t\tself.classifier = nn.Sequential(\n",
    "\t\t\tnn.Linear(latent_dim, hidden_dim),\n",
    "\t\t\tnn.ReLU(),\n",
    "\t\t\tnn.Linear(hidden_dim, num_classes)\n",
    "\t\t)\n",
    "\n",
    "\tdef encode(self, x):\n",
    "\t\th = F.relu(self.fc1(x))\n",
    "\t\tmu = self.fc_mu(h)\n",
    "\t\tlogvar = self.fc_logvar(h)\n",
    "\t\treturn mu, logvar\n",
    "\n",
    "\tdef reparameterize(self, mu, logvar):\n",
    "\t\tstd = torch.exp(0.5 * logvar)\n",
    "\t\teps = torch.randn_like(std)\n",
    "\t\treturn mu + eps * std\n",
    "\n",
    "\tdef decode(self, z):\n",
    "\t\treturn self.decoder(z)\n",
    "\n",
    "\tdef forward(self, x):\n",
    "\t\tmu, logvar = self.encode(x)\n",
    "\t\tz = self.reparameterize(mu, logvar)\n",
    "\t\tx_recon = self.decode(z)\n",
    "\t\tclass_logits = self.classifier(z)\n",
    "\t\treturn x_recon, class_logits, mu, logvar\n"
   ]
  },
  {
   "cell_type": "code",
   "execution_count": null,
   "metadata": {},
   "outputs": [],
   "source": [
    "def vae_loss_function(x_recon, x, mu, logvar):\n",
    "\t# Reconstruction loss\n",
    "\trecon_loss = F.mse_loss(x_recon, x, reduction='mean')\n",
    "\t\n",
    "\t# KL divergence\n",
    "\tkl_div = -0.5 * torch.mean(1 + logvar - mu.pow(2) - logvar.exp())\n",
    "\t\n",
    "\treturn recon_loss + kl_div\n"
   ]
  },
  {
   "cell_type": "code",
   "execution_count": null,
   "metadata": {},
   "outputs": [],
   "source": [
    "X_train_tensor = torch.tensor(X_train.values, dtype=torch.float32)\n",
    "Y_train_tensor = torch.tensor(Y_train.values, dtype=torch.long).squeeze()\n",
    "X_test_tensor = torch.tensor(X_test.values, dtype=torch.float32)\n",
    "Y_test_tensor = torch.tensor(Y_test.values, dtype=torch.long).squeeze()"
   ]
  },
  {
   "cell_type": "code",
   "execution_count": 8,
   "metadata": {},
   "outputs": [],
   "source": [
    "train_dataset = TensorDataset(X_train_tensor, Y_train_tensor)\n",
    "test_dataset = TensorDataset(X_test_tensor, Y_test_tensor)"
   ]
  },
  {
   "cell_type": "code",
   "execution_count": null,
   "metadata": {},
   "outputs": [],
   "source": [
    "batch_size = 128\n",
    "train_loader = DataLoader(train_dataset, batch_size=batch_size, shuffle=True)\n",
    "test_loader = DataLoader(test_dataset, batch_size=batch_size, shuffle=False)"
   ]
  },
  {
   "cell_type": "code",
   "execution_count": 10,
   "metadata": {},
   "outputs": [],
   "source": [
    "device = torch.device('cuda' if torch.cuda.is_available() else 'cpu')\n",
    "model = VAEClassifier().to(device)\n",
    "optimizer = torch.optim.Adam(model.parameters(), lr=1e-3)\n",
    "criterion = nn.CrossEntropyLoss()"
   ]
  },
  {
   "cell_type": "code",
   "execution_count": null,
   "metadata": {},
   "outputs": [
    {
     "name": "stdout",
     "output_type": "stream",
     "text": [
      "Epoch [1/50], Loss: 0.5301\n",
      "Epoch [2/50], Loss: 0.4158\n",
      "Epoch [3/50], Loss: 0.3704\n",
      "Epoch [4/50], Loss: 0.3575\n",
      "Epoch [5/50], Loss: 0.3509\n",
      "Epoch [6/50], Loss: 0.3460\n",
      "Epoch [7/50], Loss: 0.3459\n",
      "Epoch [8/50], Loss: 0.3413\n",
      "Epoch [9/50], Loss: 0.3402\n",
      "Epoch [10/50], Loss: 0.3378\n",
      "Epoch [11/50], Loss: 0.3361\n",
      "Epoch [12/50], Loss: 0.3348\n",
      "Epoch [13/50], Loss: 0.3337\n",
      "Epoch [14/50], Loss: 0.3328\n",
      "Epoch [15/50], Loss: 0.5531\n",
      "Epoch [16/50], Loss: 0.3310\n",
      "Epoch [17/50], Loss: 0.3310\n",
      "Epoch [18/50], Loss: 0.3313\n",
      "Epoch [19/50], Loss: 0.3298\n",
      "Epoch [20/50], Loss: 0.3286\n",
      "Epoch [21/50], Loss: 0.3289\n",
      "Epoch [22/50], Loss: 0.3288\n",
      "Epoch [23/50], Loss: 0.3279\n",
      "Epoch [24/50], Loss: 0.3280\n",
      "Epoch [25/50], Loss: 0.3288\n",
      "Epoch [26/50], Loss: 0.3271\n",
      "Epoch [27/50], Loss: 0.3272\n",
      "Epoch [28/50], Loss: 0.3262\n",
      "Epoch [29/50], Loss: 0.3318\n",
      "Epoch [30/50], Loss: 0.3265\n",
      "Epoch [31/50], Loss: 0.3272\n",
      "Epoch [32/50], Loss: 0.5865\n",
      "Epoch [33/50], Loss: 0.3272\n",
      "Epoch [34/50], Loss: 0.3259\n",
      "Epoch [35/50], Loss: 0.3266\n",
      "Epoch [36/50], Loss: 0.3265\n",
      "Epoch [37/50], Loss: 0.3256\n",
      "Epoch [38/50], Loss: 0.3250\n",
      "Epoch [39/50], Loss: 0.3250\n",
      "Epoch [40/50], Loss: 0.3261\n",
      "Epoch [41/50], Loss: 0.3244\n",
      "Epoch [42/50], Loss: 0.3258\n",
      "Epoch [43/50], Loss: 0.3250\n",
      "Epoch [44/50], Loss: 0.3260\n",
      "Epoch [45/50], Loss: 0.3255\n",
      "Epoch [46/50], Loss: 0.3250\n",
      "Epoch [47/50], Loss: 0.3259\n",
      "Epoch [48/50], Loss: 0.3245\n",
      "Epoch [49/50], Loss: 0.3251\n",
      "Epoch [50/50], Loss: 0.3251\n"
     ]
    }
   ],
   "source": [
    "for epoch in range(50):\n",
    "\tmodel.train()\n",
    "\trunning_loss = 0.0\n",
    "\tfor inputs, labels in train_loader:\n",
    "\t\tinputs = inputs.to(device).float()\n",
    "\t\tlabels = labels.to(device).squeeze().long()\n",
    "\n",
    "\t\tx_recon, logits, mu, logvar = model(inputs)\n",
    "\n",
    "\t\tclass_loss = criterion(logits, labels)\n",
    "\t\tvae_loss = vae_loss_function(x_recon, inputs, mu, logvar)\n",
    "\t\tloss = class_loss + vae_loss\n",
    "\n",
    "\t\toptimizer.zero_grad()\n",
    "\t\tloss.backward()\n",
    "\t\toptimizer.step()\n",
    "\t\t\n",
    "\t\trunning_loss += loss.item()\n",
    "\n",
    "\tprint(f\"Epoch [{epoch+1}/{50}], Loss: {running_loss/len(train_loader):.4f}\")\n"
   ]
  },
  {
   "cell_type": "code",
   "execution_count": null,
   "metadata": {},
   "outputs": [],
   "source": [
    "from sklearn.metrics import classification_report\n",
    "from tabulate import tabulate\n",
    "\n",
    "def evaluate(model, test_loader):\n",
    "\tmodel.eval()\n",
    "\tall_preds = []\n",
    "\tall_labels = []\n",
    "\twith torch.no_grad():\n",
    "\t\tfor inputs, labels in test_loader:\n",
    "\t\t\tinputs, labels = inputs.to(device).float(), labels.to(device).squeeze().long()\n",
    "\t\t\t_, outputs, _, _ = model(inputs)\n",
    "\t\t\t_, predicted = torch.max(outputs.data, 1)\n",
    "\t\t\tall_preds.extend(predicted.cpu().numpy())\n",
    "\t\t\tall_labels.extend(labels.cpu().numpy())\n",
    "\taccuracy = 100 * sum([1 for p, l in zip(all_preds, all_labels) if p == l]) / len(all_labels)\n",
    "\treport = classification_report(all_labels, all_preds, target_names=['0', '1','2'], output_dict=True)\n",
    "\n",
    "\theaders = ['precision', 'recall', 'f1-score', 'support']\n",
    "\ttable_data = []\n",
    "\n",
    "\tfor label in ['0', '1','2']:\n",
    "\t\trow = [f\"{report[label][metric]:.2f}\" for metric in headers[:-1]]\n",
    "\t\trow.append(int(report[label]['support']))\n",
    "\t\ttable_data.append([label] + row)\n",
    "\n",
    "\ttable_data.append(['accuracy', '', '', f\"{report['accuracy']:.2f}\", len(all_labels)])\n",
    "\ttable_data.append(['macro avg'] + [f\"{report['macro avg'][metric]:.2f}\" for metric in headers[:-1]] + [int(report['macro avg']['support'])])\n",
    "\ttable_data.append(['weighted avg'] + [f\"{report['weighted avg'][metric]:.2f}\" for metric in headers[:-1]] + [int(report['weighted avg']['support'])])\n",
    "\n",
    "\tprint(f\"Test Accuracy: {accuracy/100:.4f}\")\n",
    "\tprint(\"Classification Report:\")\n",
    "\tprint(tabulate(table_data, headers=[''] + headers, tablefmt='grid', floatfmt='.2f'))\n",
    "\n",
    "\treport = classification_report(all_labels, all_preds, target_names=['0', '1','2'], output_dict=True)\n",
    "\treturn report"
   ]
  },
  {
   "cell_type": "code",
   "execution_count": null,
   "metadata": {},
   "outputs": [
    {
     "name": "stdout",
     "output_type": "stream",
     "text": [
      "Test Accuracy: 0.7893\n",
      "Classification Report:\n",
      "+--------------+-------------+----------+------------+-----------+\n",
      "|              | precision   | recall   |   f1-score |   support |\n",
      "+==============+=============+==========+============+===========+\n",
      "| 0            | 0.74        | 0.92     |       0.82 |      9711 |\n",
      "+--------------+-------------+----------+------------+-----------+\n",
      "| 1            | 0.85        | 0.99     |       0.91 |      5741 |\n",
      "+--------------+-------------+----------+------------+-----------+\n",
      "| 2            | 0.84        | 0.44     |       0.58 |      7092 |\n",
      "+--------------+-------------+----------+------------+-----------+\n",
      "| accuracy     |             |          |       0.79 |     22544 |\n",
      "+--------------+-------------+----------+------------+-----------+\n",
      "| macro avg    | 0.81        | 0.79     |       0.77 |     22544 |\n",
      "+--------------+-------------+----------+------------+-----------+\n",
      "| weighted avg | 0.80        | 0.79     |       0.77 |     22544 |\n",
      "+--------------+-------------+----------+------------+-----------+\n"
     ]
    },
    {
     "data": {
      "image/png": "[encoded data removed]",
      "text/plain": [
       "<Figure size 640x480 with 1 Axes>"
      ]
     },
     "metadata": {},
     "output_type": "display_data"
    },
    {
     "data": {
      "image/png": "[encoded data removed]",
      "text/plain": [
       "<Figure size 640x480 with 1 Axes>"
      ]
     },
     "metadata": {},
     "output_type": "display_data"
    },
    {
     "data": {
      "image/png": "[encoded data removed]",
      "text/plain": [
       "<Figure size 640x480 with 1 Axes>"
      ]
     },
     "metadata": {},
     "output_type": "display_data"
    }
   ],
   "source": [
    "report = evaluate(model, test_loader)\n",
    "metrics = ['precision', 'recall', 'f1-score']\n",
    "classes = ['0', '1']\n",
    "\n",
    "for metric in metrics:\n",
    "\tvalues = [report[cls][metric] for cls in classes]\n",
    "\tplt.bar(classes, values)\n",
    "\tplt.ylim(0, 1)\n",
    "\tplt.title(f\"{metric.title()} per class\")\n",
    "\tplt.xlabel(\"Class\")\n",
    "\tplt.ylabel(metric.title())\n",
    "\tplt.grid(True)\n",
    "\tplt.show()"
   ]
  }
 ],
 "metadata": {
  "kernelspec": {
   "display_name": ".venv",
   "language": "python",
   "name": "python3"
  },
  "language_info": {
   "codemirror_mode": {
    "name": "ipython",
    "version": 3
   },
   "file_extension": ".py",
   "mimetype": "text/x-python",
   "name": "python",
   "nbconvert_exporter": "python",
   "pygments_lexer": "ipython3",
   "version": "3.11.12"
  }
 },
 "nbformat": 4,
 "nbformat_minor": 2
}
