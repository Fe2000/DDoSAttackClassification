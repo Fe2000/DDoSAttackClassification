{
 "cells": [
  {
   "cell_type": "code",
   "execution_count": null,
   "metadata": {},
   "outputs": [],
   "source": [
    "# Forcing autoreload of modules so restart is not required\n",
    "%load_ext autoreload\n",
    "%autoreload 2\n",
    "\n",
    "import os\n",
    "\n",
    "os.chdir(\"../../\")\n",
    "\n",
    "\n",
    "print(\"Current Working Directory:  \", os.getcwd())"
   ]
  },
  {
   "cell_type": "code",
   "execution_count": 2,
   "metadata": {},
   "outputs": [],
   "source": [
    "import pandas as pd\n",
    "import numpy as np\n",
    "from sklearn.svm import SVC\n",
    "from sklearn.preprocessing import StandardScaler\n",
    "from sklearn.metrics import accuracy_score, classification_report\n",
    "from tabulate import tabulate\n",
    "import torch\n",
    "import torch.nn as nn\n",
    "import torch.optim as optim\n",
    "from torch.utils.data import DataLoader, TensorDataset\n",
    "from torch.utils.data import WeightedRandomSampler, DataLoader\n",
    "from sklearn.utils.class_weight import compute_class_weight\n",
    "from imblearn.under_sampling import RandomUnderSampler\n",
    "import matplotlib.pyplot as plt"
   ]
  },
  {
   "cell_type": "code",
   "execution_count": 3,
   "metadata": {},
   "outputs": [],
   "source": [
    "X_train = pd.read_csv('./data/processed/NB15/binary_comb/X_train.csv',low_memory=False)\n",
    "Y_train = pd.read_csv('./data/processed/NB15/binary_comb/Y_train.csv',low_memory=False)\n",
    "\n",
    "\n",
    "X_test = pd.read_csv('./data/processed/NB15/binary_comb/X_test.csv',low_memory=False)\n",
    "Y_test = pd.read_csv('./data/processed/NB15/binary_comb/Y_test.csv',low_memory=False)"
   ]
  },
  {
   "cell_type": "code",
   "execution_count": 4,
   "metadata": {},
   "outputs": [
    {
     "data": {
      "text/plain": [
       "array([0, 1])"
      ]
     },
     "execution_count": 4,
     "metadata": {},
     "output_type": "execute_result"
    }
   ],
   "source": [
    "Y_train['label'].unique()"
   ]
  },
  {
   "cell_type": "code",
   "execution_count": 5,
   "metadata": {},
   "outputs": [
    {
     "data": {
      "text/plain": [
       "label\n",
       "0    51010\n",
       "1    50000\n",
       "Name: count, dtype: int64"
      ]
     },
     "execution_count": 5,
     "metadata": {},
     "output_type": "execute_result"
    }
   ],
   "source": [
    "Y_train['label'].value_counts()"
   ]
  },
  {
   "cell_type": "code",
   "execution_count": 6,
   "metadata": {},
   "outputs": [
    {
     "name": "stdout",
     "output_type": "stream",
     "text": [
      "X_train:  (101010, 195)\n",
      "Y_train:  (101010, 1)\n",
      "X_test:  (25928, 195)\n",
      "y_test:  (25928, 1)\n"
     ]
    }
   ],
   "source": [
    "print(\"X_train: \", X_train.shape)\n",
    "print(\"Y_train: \", Y_train.shape)\n",
    "print(\"X_test: \", X_test.shape)\n",
    "print(\"y_test: \", Y_test.shape)"
   ]
  },
  {
   "cell_type": "code",
   "execution_count": null,
   "metadata": {},
   "outputs": [],
   "source": [
    "X_train_tensor = torch.tensor(X_train.values, dtype=torch.float32)\n",
    "Y_train_tensor = torch.tensor(Y_train.values, dtype=torch.long).squeeze()\n",
    "X_test_tensor = torch.tensor(X_test.values, dtype=torch.float32)\n",
    "Y_test_tensor = torch.tensor(Y_test.values, dtype=torch.long).squeeze()"
   ]
  },
  {
   "cell_type": "code",
   "execution_count": 8,
   "metadata": {},
   "outputs": [],
   "source": [
    "train_dataset = TensorDataset(X_train_tensor, Y_train_tensor)\n",
    "test_dataset = TensorDataset(X_test_tensor, Y_test_tensor)"
   ]
  },
  {
   "cell_type": "code",
   "execution_count": null,
   "metadata": {},
   "outputs": [],
   "source": [
    "batch_size = 128\n",
    "train_loader = DataLoader(train_dataset, batch_size=batch_size, shuffle=True)\n",
    "test_loader = DataLoader(test_dataset, batch_size=batch_size, shuffle=False)"
   ]
  },
  {
   "cell_type": "code",
   "execution_count": null,
   "metadata": {},
   "outputs": [],
   "source": [
    "class Classifier(nn.Module):\n",
    "\tdef __init__(self, input_size=195, hidden_size=256, num_classes=2):\n",
    "\t\tsuper(Classifier, self).__init__()\n",
    "\t\tself.fc1 = nn.Linear(input_size, hidden_size)\n",
    "\t\tself.bn1 = nn.BatchNorm1d(hidden_size)\n",
    "\t\tself.fc2 = nn.Linear(hidden_size, hidden_size // 2)\n",
    "\t\tself.bn2 = nn.BatchNorm1d(hidden_size // 2)\n",
    "\t\tself.fc3 = nn.Linear(hidden_size // 2, num_classes)\n",
    "\t\tself.relu = nn.ReLU()\n",
    "\t\n",
    "\tdef forward(self, x):\n",
    "\t\tout = self.fc1(x)\n",
    "\t\tout = self.bn1(out)\n",
    "\t\tout = self.relu(out)\n",
    "\t\tout = self.fc2(out)\n",
    "\t\tout = self.bn2(out)\n",
    "\t\tout = self.relu(out)\n",
    "\t\tout = self.fc3(out)\n",
    "\t\treturn out"
   ]
  },
  {
   "cell_type": "code",
   "execution_count": null,
   "metadata": {},
   "outputs": [],
   "source": [
    "device = torch.device('cuda' if torch.cuda.is_available() else 'cpu')\n",
    "model = Classifier().to(device)\n",
    "criterion = nn.CrossEntropyLoss()\n",
    "optimizer = optim.Adam(model.parameters(), lr=0.001)"
   ]
  },
  {
   "cell_type": "code",
   "execution_count": null,
   "metadata": {},
   "outputs": [
    {
     "name": "stdout",
     "output_type": "stream",
     "text": [
      "Epoch [1/50], Loss: 0.1354\n",
      "Epoch [2/50], Loss: 0.0988\n",
      "Epoch [3/50], Loss: 0.0880\n",
      "Epoch [4/50], Loss: 0.0833\n",
      "Epoch [5/50], Loss: 0.0776\n",
      "Epoch [6/50], Loss: 0.0747\n",
      "Epoch [7/50], Loss: 0.0717\n",
      "Epoch [8/50], Loss: 0.0686\n",
      "Epoch [9/50], Loss: 0.0680\n",
      "Epoch [10/50], Loss: 0.0624\n",
      "Epoch [11/50], Loss: 0.0622\n",
      "Epoch [12/50], Loss: 0.0608\n",
      "Epoch [13/50], Loss: 0.0604\n",
      "Epoch [14/50], Loss: 0.0581\n",
      "Epoch [15/50], Loss: 0.0568\n",
      "Epoch [16/50], Loss: 0.0553\n",
      "Epoch [17/50], Loss: 0.0536\n",
      "Epoch [18/50], Loss: 0.0539\n",
      "Epoch [19/50], Loss: 0.0550\n",
      "Epoch [20/50], Loss: 0.0516\n",
      "Epoch [21/50], Loss: 0.0507\n",
      "Epoch [22/50], Loss: 0.0501\n",
      "Epoch [23/50], Loss: 0.0473\n",
      "Epoch [24/50], Loss: 0.0491\n",
      "Epoch [25/50], Loss: 0.0485\n",
      "Epoch [26/50], Loss: 0.0477\n",
      "Epoch [27/50], Loss: 0.0467\n",
      "Epoch [28/50], Loss: 0.0447\n",
      "Epoch [29/50], Loss: 0.0445\n",
      "Epoch [30/50], Loss: 0.0444\n",
      "Epoch [31/50], Loss: 0.0442\n",
      "Epoch [32/50], Loss: 0.0437\n",
      "Epoch [33/50], Loss: 0.0420\n",
      "Epoch [34/50], Loss: 0.0425\n",
      "Epoch [35/50], Loss: 0.0411\n",
      "Epoch [36/50], Loss: 0.0405\n",
      "Epoch [37/50], Loss: 0.0406\n",
      "Epoch [38/50], Loss: 0.0403\n",
      "Epoch [39/50], Loss: 0.0392\n",
      "Epoch [40/50], Loss: 0.0386\n",
      "Epoch [41/50], Loss: 0.0381\n",
      "Epoch [42/50], Loss: 0.0370\n",
      "Epoch [43/50], Loss: 0.0369\n",
      "Epoch [44/50], Loss: 0.0379\n",
      "Epoch [45/50], Loss: 0.0371\n",
      "Epoch [46/50], Loss: 0.0366\n",
      "Epoch [47/50], Loss: 0.0354\n",
      "Epoch [48/50], Loss: 0.0370\n",
      "Epoch [49/50], Loss: 0.0361\n",
      "Epoch [50/50], Loss: 0.0342\n"
     ]
    }
   ],
   "source": [
    "num_epochs = 50 \n",
    "loss_history = []\n",
    "for epoch in range(num_epochs):\n",
    "\tmodel.train()\n",
    "\trunning_loss = 0.0\n",
    "\tfor i, (inputs, labels) in enumerate(train_loader):\n",
    "\t\tinputs, labels = inputs.to(device), labels.to(device)\n",
    "\t\t\n",
    "\t\toutputs = model(inputs)\n",
    "\t\tloss = criterion(outputs, labels)\n",
    "\t\t\n",
    "\t\toptimizer.zero_grad()\n",
    "\t\tloss.backward()\n",
    "\t\toptimizer.step()\n",
    "\t\t\n",
    "\t\trunning_loss += loss.item()\n",
    "\tavg_loss = running_loss / len(train_loader)\n",
    "\tloss_history.append(avg_loss)\n",
    "\tprint(f'Epoch [{epoch+1}/{num_epochs}], Loss: {running_loss/len(train_loader):.4f}')"
   ]
  },
  {
   "cell_type": "code",
   "execution_count": 13,
   "metadata": {},
   "outputs": [
    {
     "data": {
      "image/png": "[encoded data removed]",
      "text/plain": [
       "<Figure size 640x480 with 1 Axes>"
      ]
     },
     "metadata": {},
     "output_type": "display_data"
    }
   ],
   "source": [
    "plt.plot(loss_history, label='FFNN Loss', color='green')\n",
    "plt.title(\"FFNN Training Loss\")\n",
    "plt.xlabel(\"Epoch\")\n",
    "plt.ylabel(\"Loss\")\n",
    "plt.grid(True)\n",
    "plt.legend()\n",
    "\n",
    "plt.tight_layout()\n",
    "plt.show()"
   ]
  },
  {
   "cell_type": "code",
   "execution_count": null,
   "metadata": {},
   "outputs": [],
   "source": [
    "from sklearn.metrics import classification_report\n",
    "from tabulate import tabulate\n",
    "def evaluate(model, test_loader):\n",
    "\tmodel.eval()\n",
    "\tall_preds = []\n",
    "\tall_labels = []\n",
    "\twith torch.no_grad():\n",
    "\t\tfor inputs, labels in test_loader:\n",
    "\t\t\tinputs, labels = inputs.to(device).float(), labels.to(device).squeeze().long()\n",
    "\t\t\toutputs = model(inputs)\n",
    "\t\t\t_, predicted = torch.max(outputs.data, 1)\n",
    "\n",
    "\t\t\tall_preds.extend(predicted.cpu().numpy())\n",
    "\t\t\tall_labels.extend(labels.cpu().numpy())\n",
    "\taccuracy = 100 * sum([1 for p, l in zip(all_preds, all_labels) if p == l]) / len(all_labels)\n",
    "\treport = classification_report(all_labels, all_preds, target_names=['0', '1'], output_dict=True)\n",
    "\n",
    "\theaders = ['precision', 'recall', 'f1-score', 'support']\n",
    "\ttable_data = []\n",
    "\n",
    "\tfor label in ['0', '1']:\n",
    "\t\trow = [f\"{report[label][metric]:.2f}\" for metric in headers[:-1]]\n",
    "\t\trow.append(int(report[label]['support']))\n",
    "\t\ttable_data.append([label] + row)\n",
    "\n",
    "\ttable_data.append(['accuracy', '', '', f\"{report['accuracy']:.2f}\", len(all_labels)])\n",
    "\ttable_data.append(['macro avg'] + [f\"{report['macro avg'][metric]:.2f}\" for metric in headers[:-1]] + [int(report['macro avg']['support'])])\n",
    "\ttable_data.append(['weighted avg'] + [f\"{report['weighted avg'][metric]:.2f}\" for metric in headers[:-1]] + [int(report['weighted avg']['support'])])\n",
    "\n",
    "\tprint(f\"Test Accuracy: {accuracy/100:.4f}\")\n",
    "\tprint(\"Classification Report:\")\n",
    "\tprint(tabulate(table_data, headers=[''] + headers, tablefmt='grid', floatfmt='.2f'))\n",
    "\n",
    "\treport = classification_report(all_labels, all_preds, target_names=['0', '1'], output_dict=True)\n",
    "\treturn report"
   ]
  },
  {
   "cell_type": "code",
   "execution_count": null,
   "metadata": {},
   "outputs": [
    {
     "name": "stdout",
     "output_type": "stream",
     "text": [
      "Test Accuracy: 0.7696\n",
      "Classification Report:\n",
      "+--------------+-------------+----------+------------+-----------+\n",
      "|              | precision   | recall   |   f1-score |   support |\n",
      "+==============+=============+==========+============+===========+\n",
      "| 0            | 0.80        | 0.94     |       0.87 |     20520 |\n",
      "+--------------+-------------+----------+------------+-----------+\n",
      "| 1            | 0.36        | 0.14     |       0.20 |      5408 |\n",
      "+--------------+-------------+----------+------------+-----------+\n",
      "| accuracy     |             |          |       0.77 |     25928 |\n",
      "+--------------+-------------+----------+------------+-----------+\n",
      "| macro avg    | 0.58        | 0.54     |       0.53 |     25928 |\n",
      "+--------------+-------------+----------+------------+-----------+\n",
      "| weighted avg | 0.71        | 0.77     |       0.73 |     25928 |\n",
      "+--------------+-------------+----------+------------+-----------+\n"
     ]
    },
    {
     "data": {
      "image/png": "[encoded data removed]",
      "text/plain": [
       "<Figure size 640x480 with 1 Axes>"
      ]
     },
     "metadata": {},
     "output_type": "display_data"
    },
    {
     "data": {
      "image/png": "[encoded data removed]",
      "text/plain": [
       "<Figure size 640x480 with 1 Axes>"
      ]
     },
     "metadata": {},
     "output_type": "display_data"
    },
    {
     "data": {
      "image/png": "[encoded data removed]",
      "text/plain": [
       "<Figure size 640x480 with 1 Axes>"
      ]
     },
     "metadata": {},
     "output_type": "display_data"
    }
   ],
   "source": [
    "report = evaluate(model, test_loader)\n",
    "metrics = ['precision', 'recall', 'f1-score']\n",
    "classes = ['0', '1']\n",
    "\n",
    "for metric in metrics:\n",
    "\tvalues = [report[cls][metric] for cls in classes]\n",
    "\tplt.bar(classes, values)\n",
    "\tplt.ylim(0, 1)\n",
    "\tplt.title(f\"{metric.title()} per class\")\n",
    "\tplt.xlabel(\"Class\")\n",
    "\tplt.ylabel(metric.title())\n",
    "\tplt.grid(True)\n",
    "\tplt.show()"
   ]
  },
  {
   "cell_type": "markdown",
   "metadata": {},
   "source": [
    "### XGBOOST ALONE"
   ]
  },
  {
   "cell_type": "code",
   "execution_count": null,
   "metadata": {},
   "outputs": [
    {
     "name": "stderr",
     "output_type": "stream",
     "text": [
      "/home/adrian/UARK/Spring_2025/NetworkSecurity/project/code/.venv/lib64/python3.11/site-packages/xgboost/training.py:183: UserWarning: [19:16:27] WARNING: /workspace/src/learner.cc:738: \n",
      "Parameters: { \"use_label_encoder\" } are not used.\n",
      "\n",
      "  bst.update(dtrain, iteration=i, fobj=obj)\n"
     ]
    },
    {
     "name": "stdout",
     "output_type": "stream",
     "text": [
      "Test Set Accuracy (XGBoost): 0.7914224004936747\n",
      "Classification Report (XGBoost):\n",
      "              precision    recall  f1-score   support\n",
      "\n",
      "           0       0.79      1.00      0.88     20520\n",
      "           1       0.00      0.00      0.00      5408\n",
      "\n",
      "    accuracy                           0.79     25928\n",
      "   macro avg       0.40      0.50      0.44     25928\n",
      "weighted avg       0.63      0.79      0.70     25928\n",
      "\n"
     ]
    },
    {
     "name": "stderr",
     "output_type": "stream",
     "text": [
      "/home/adrian/UARK/Spring_2025/NetworkSecurity/project/code/.venv/lib64/python3.11/site-packages/sklearn/metrics/_classification.py:1565: UndefinedMetricWarning: Precision is ill-defined and being set to 0.0 in labels with no predicted samples. Use `zero_division` parameter to control this behavior.\n",
      "  _warn_prf(average, modifier, f\"{metric.capitalize()} is\", len(result))\n",
      "/home/adrian/UARK/Spring_2025/NetworkSecurity/project/code/.venv/lib64/python3.11/site-packages/sklearn/metrics/_classification.py:1565: UndefinedMetricWarning: Precision is ill-defined and being set to 0.0 in labels with no predicted samples. Use `zero_division` parameter to control this behavior.\n",
      "  _warn_prf(average, modifier, f\"{metric.capitalize()} is\", len(result))\n",
      "/home/adrian/UARK/Spring_2025/NetworkSecurity/project/code/.venv/lib64/python3.11/site-packages/sklearn/metrics/_classification.py:1565: UndefinedMetricWarning: Precision is ill-defined and being set to 0.0 in labels with no predicted samples. Use `zero_division` parameter to control this behavior.\n",
      "  _warn_prf(average, modifier, f\"{metric.capitalize()} is\", len(result))\n"
     ]
    }
   ],
   "source": [
    "import xgboost as xgb\n",
    "from sklearn.metrics import classification_report, accuracy_score\n",
    "import numpy as np\n",
    "\n",
    "best_params_model1 = xgb.XGBClassifier(\n",
    "\tobjective='binary:logistic',\n",
    "\teval_metric='mlogloss',\n",
    "\tuse_label_encoder=False,\n",
    "\trandom_state=42,\n",
    "\tn_jobs=-1,\n",
    "\tcolsample_bytree=np.float64(0.7159005811655073),\n",
    "\tgamma=np.float64(0.08061064362700221),\n",
    "\tlearning_rate=np.float64(0.19593953046851464),\n",
    "\tmax_depth=7,\n",
    "\tmin_child_weight=1,\n",
    "\tn_estimators=233,\n",
    "\treg_alpha=np.float64(0.22826728524145512),\n",
    "\treg_lambda=np.float64(0.2965963934951502),\n",
    "\tsubsample=np.float64(0.7666039791481465)\n",
    ")\n",
    "\n",
    "best_params_model1.fit(X_train, Y_train)\n",
    "\n",
    "y_pred_feat1 = best_params_model1.predict(X_test)\n",
    "\n",
    "print(\"Test Set Accuracy (XGBoost):\", accuracy_score(Y_test, y_pred_feat1))\n",
    "print(\"Classification Report (XGBoost):\")\n",
    "print(classification_report(Y_test, y_pred_feat1, digits=2))"
   ]
  },
  {
   "cell_type": "markdown",
   "metadata": {},
   "source": [
    "### XGBOOST + FNN"
   ]
  },
  {
   "cell_type": "code",
   "execution_count": null,
   "metadata": {},
   "outputs": [],
   "source": [
    "# %%\n",
    "def extract_features(model, loader):\n",
    "\tmodel.eval()\n",
    "\tfeatures = []\n",
    "\tlabels = []\n",
    "\twith torch.no_grad():\n",
    "\t\tfor inputs, lbls in loader:\n",
    "\t\t\tinputs = inputs.to(device)\n",
    "\t\t\tx = model.fc1(inputs)\n",
    "\t\t\tx = model.bn1(x)\n",
    "\t\t\tx = model.relu(x)\n",
    "\t\t\tx = model.fc2(x)\n",
    "\t\t\tx = model.bn2(x)\n",
    "\t\t\tx = model.relu(x)\n",
    "\t\t\t\n",
    "\t\t\tfeatures.append(x.cpu().numpy())\n",
    "\t\t\tlabels.extend(lbls.numpy())\n",
    "\treturn np.vstack(features), np.array(labels)\n",
    "\n",
    "X_train_feat, y_train_feat = extract_features(model, train_loader)\n",
    "X_test_feat, y_test_feat = extract_features(model, test_loader)"
   ]
  },
  {
   "cell_type": "code",
   "execution_count": null,
   "metadata": {},
   "outputs": [
    {
     "name": "stderr",
     "output_type": "stream",
     "text": [
      "/home/adrian/UARK/Spring_2025/NetworkSecurity/project/code/.venv/lib64/python3.11/site-packages/xgboost/training.py:183: UserWarning: [19:16:31] WARNING: /workspace/src/learner.cc:738: \n",
      "Parameters: { \"use_label_encoder\" } are not used.\n",
      "\n",
      "  bst.update(dtrain, iteration=i, fobj=obj)\n"
     ]
    },
    {
     "name": "stdout",
     "output_type": "stream",
     "text": [
      "Test Set Accuracy (FFNN + XGBoost): 0.7980175871644554\n",
      "Classification Report (FFNN + XGBoost):\n",
      "              precision    recall  f1-score   support\n",
      "\n",
      "           0       0.81      0.98      0.88     20520\n",
      "           1       0.58      0.12      0.20      5408\n",
      "\n",
      "    accuracy                           0.80     25928\n",
      "   macro avg       0.69      0.55      0.54     25928\n",
      "weighted avg       0.76      0.80      0.74     25928\n",
      "\n"
     ]
    }
   ],
   "source": [
    "import xgboost as xgb\n",
    "from sklearn.metrics import classification_report, accuracy_score\n",
    "import numpy as np\n",
    "\n",
    "best_params_model = xgb.XGBClassifier(\n",
    "\tobjective='binary:logistic',\n",
    "\teval_metric='mlogloss',\n",
    "\tuse_label_encoder=False,\n",
    "\trandom_state=42,\n",
    "\tn_jobs=-1,\n",
    "\tcolsample_bytree=np.float64(0.7159005811655073),\n",
    "\tgamma=np.float64(0.08061064362700221),\n",
    "\tlearning_rate=np.float64(0.19593953046851464),\n",
    "\tmax_depth=7,\n",
    "\tmin_child_weight=1,\n",
    "\tn_estimators=233,\n",
    "\treg_alpha=np.float64(0.22826728524145512),\n",
    "\treg_lambda=np.float64(0.2965963934951502),\n",
    "\tsubsample=np.float64(0.7666039791481465)\n",
    ")\n",
    "\n",
    "best_params_model.fit(X_train_feat, y_train_feat)\n",
    "\n",
    "y_pred_feat = best_params_model.predict(X_test_feat)\n",
    "\n",
    "print(\"Test Set Accuracy (FFNN + XGBoost):\", accuracy_score(y_test_feat, y_pred_feat))\n",
    "print(\"Classification Report (FFNN + XGBoost):\")\n",
    "print(classification_report(y_test_feat, y_pred_feat, digits=2))"
   ]
  }
 ],
 "metadata": {
  "kernelspec": {
   "display_name": ".venv",
   "language": "python",
   "name": "python3"
  },
  "language_info": {
   "codemirror_mode": {
    "name": "ipython",
    "version": 3
   },
   "file_extension": ".py",
   "mimetype": "text/x-python",
   "name": "python",
   "nbconvert_exporter": "python",
   "pygments_lexer": "ipython3",
   "version": "3.11.12"
  }
 },
 "nbformat": 4,
 "nbformat_minor": 2
}
