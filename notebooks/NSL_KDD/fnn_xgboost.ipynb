{
 "cells": [
  {
   "cell_type": "code",
   "execution_count": null,
   "metadata": {},
   "outputs": [],
   "source": [
    "# Forcing autoreload of modules so restart is not required\n",
    "%load_ext autoreload\n",
    "%autoreload 2\n",
    "\n",
    "import os\n",
    "\n",
    "os.chdir(\"../../\")\n",
    "\n",
    "\n",
    "print(\"Current Working Directory:  \", os.getcwd())"
   ]
  },
  {
   "cell_type": "code",
   "execution_count": 2,
   "metadata": {},
   "outputs": [],
   "source": [
    "import pandas as pd\n",
    "import numpy as np\n",
    "from sklearn.svm import SVC\n",
    "from sklearn.preprocessing import StandardScaler\n",
    "from sklearn.metrics import accuracy_score, classification_report\n",
    "from tabulate import tabulate\n",
    "import torch\n",
    "import torch.nn as nn\n",
    "import torch.optim as optim\n",
    "from torch.utils.data import DataLoader, TensorDataset\n",
    "from torch.utils.data import WeightedRandomSampler, DataLoader\n",
    "import matplotlib.pyplot as plt"
   ]
  },
  {
   "cell_type": "code",
   "execution_count": 3,
   "metadata": {},
   "outputs": [],
   "source": [
    "X_train = pd.read_csv('./data/processed/NSL_KDD/multi_class/X_train.csv',low_memory=False)\n",
    "Y_train = pd.read_csv('./data/processed/NSL_KDD/multi_class/Y_train.csv',low_memory=False)\n",
    "\n",
    "\n",
    "X_test = pd.read_csv('./data/processed/NSL_KDD/multi_class/X_test.csv',low_memory=False)\n",
    "Y_test = pd.read_csv('./data/processed/NSL_KDD/multi_class/Y_test.csv',low_memory=False)"
   ]
  },
  {
   "cell_type": "code",
   "execution_count": 4,
   "metadata": {},
   "outputs": [
    {
     "name": "stdout",
     "output_type": "stream",
     "text": [
      "X_train:  (125973, 123)\n",
      "Y_train:  (125973, 1)\n",
      "X_test:  (22544, 123)\n",
      "y_test:  (22544, 1)\n"
     ]
    }
   ],
   "source": [
    "print(\"X_train: \", X_train.shape)\n",
    "print(\"Y_train: \", Y_train.shape)\n",
    "print(\"X_test: \", X_test.shape)\n",
    "print(\"y_test: \", Y_test.shape)"
   ]
  },
  {
   "cell_type": "code",
   "execution_count": null,
   "metadata": {},
   "outputs": [],
   "source": [
    "X_train_tensor = torch.tensor(X_train.values, dtype=torch.float32)\n",
    "Y_train_tensor = torch.tensor(Y_train.values, dtype=torch.long).squeeze()\n",
    "X_test_tensor = torch.tensor(X_test.values, dtype=torch.float32)\n",
    "Y_test_tensor = torch.tensor(Y_test.values, dtype=torch.long).squeeze()"
   ]
  },
  {
   "cell_type": "code",
   "execution_count": 6,
   "metadata": {},
   "outputs": [],
   "source": [
    "train_dataset = TensorDataset(X_train_tensor, Y_train_tensor)\n",
    "test_dataset = TensorDataset(X_test_tensor, Y_test_tensor)"
   ]
  },
  {
   "cell_type": "code",
   "execution_count": null,
   "metadata": {},
   "outputs": [],
   "source": [
    "batch_size = 128\n",
    "train_loader = DataLoader(train_dataset, batch_size=batch_size, shuffle=True)\n",
    "test_loader = DataLoader(test_dataset, batch_size=batch_size, shuffle=False)"
   ]
  },
  {
   "cell_type": "code",
   "execution_count": null,
   "metadata": {},
   "outputs": [],
   "source": [
    "class Classifier(nn.Module):\n",
    "\tdef __init__(self, input_size=123, hidden_size=256, num_classes=3):\n",
    "\t\tsuper(Classifier, self).__init__()\n",
    "\t\tself.fc1 = nn.Linear(input_size, hidden_size)\n",
    "\t\tself.bn1 = nn.BatchNorm1d(hidden_size)\n",
    "\t\tself.fc2 = nn.Linear(hidden_size, hidden_size // 2)\n",
    "\t\tself.bn2 = nn.BatchNorm1d(hidden_size // 2)\n",
    "\t\tself.fc3 = nn.Linear(hidden_size // 2, num_classes)\n",
    "\t\tself.relu = nn.ReLU()\n",
    "\t\n",
    "\tdef forward(self, x):\n",
    "\t\tout = self.fc1(x)\n",
    "\t\tout = self.bn1(out)\n",
    "\t\tout = self.relu(out)\n",
    "\t\tout = self.fc2(out)\n",
    "\t\tout = self.bn2(out)\n",
    "\t\tout = self.relu(out)\n",
    "\t\tout = self.fc3(out)\n",
    "\t\treturn out"
   ]
  },
  {
   "cell_type": "code",
   "execution_count": null,
   "metadata": {},
   "outputs": [],
   "source": [
    "device = torch.device('cuda' if torch.cuda.is_available() else 'cpu')\n",
    "model = Classifier().to(device)\n",
    "criterion = nn.CrossEntropyLoss()\n",
    "optimizer = optim.Adam(model.parameters(), lr=0.001)"
   ]
  },
  {
   "cell_type": "code",
   "execution_count": null,
   "metadata": {},
   "outputs": [
    {
     "name": "stdout",
     "output_type": "stream",
     "text": [
      "Epoch [1/50], Loss: 0.0264\n",
      "Epoch [2/50], Loss: 0.0093\n",
      "Epoch [3/50], Loss: 0.0069\n",
      "Epoch [4/50], Loss: 0.0059\n",
      "Epoch [5/50], Loss: 0.0048\n",
      "Epoch [6/50], Loss: 0.0062\n",
      "Epoch [7/50], Loss: 0.0043\n",
      "Epoch [8/50], Loss: 0.0045\n",
      "Epoch [9/50], Loss: 0.0037\n",
      "Epoch [10/50], Loss: 0.0038\n",
      "Epoch [11/50], Loss: 0.0034\n",
      "Epoch [12/50], Loss: 0.0036\n",
      "Epoch [13/50], Loss: 0.0032\n",
      "Epoch [14/50], Loss: 0.0029\n",
      "Epoch [15/50], Loss: 0.0032\n",
      "Epoch [16/50], Loss: 0.0023\n",
      "Epoch [17/50], Loss: 0.0026\n",
      "Epoch [18/50], Loss: 0.0025\n",
      "Epoch [19/50], Loss: 0.0025\n",
      "Epoch [20/50], Loss: 0.0021\n",
      "Epoch [21/50], Loss: 0.0025\n",
      "Epoch [22/50], Loss: 0.0021\n",
      "Epoch [23/50], Loss: 0.0020\n",
      "Epoch [24/50], Loss: 0.0022\n",
      "Epoch [25/50], Loss: 0.0021\n",
      "Epoch [26/50], Loss: 0.0021\n",
      "Epoch [27/50], Loss: 0.0019\n",
      "Epoch [28/50], Loss: 0.0018\n",
      "Epoch [29/50], Loss: 0.0018\n",
      "Epoch [30/50], Loss: 0.0018\n",
      "Epoch [31/50], Loss: 0.0019\n",
      "Epoch [32/50], Loss: 0.0022\n",
      "Epoch [33/50], Loss: 0.0018\n",
      "Epoch [34/50], Loss: 0.0016\n",
      "Epoch [35/50], Loss: 0.0016\n",
      "Epoch [36/50], Loss: 0.0016\n",
      "Epoch [37/50], Loss: 0.0018\n",
      "Epoch [38/50], Loss: 0.0018\n",
      "Epoch [39/50], Loss: 0.0015\n",
      "Epoch [40/50], Loss: 0.0019\n",
      "Epoch [41/50], Loss: 0.0013\n",
      "Epoch [42/50], Loss: 0.0015\n",
      "Epoch [43/50], Loss: 0.0018\n",
      "Epoch [44/50], Loss: 0.0017\n",
      "Epoch [45/50], Loss: 0.0022\n",
      "Epoch [46/50], Loss: 0.0014\n",
      "Epoch [47/50], Loss: 0.0015\n",
      "Epoch [48/50], Loss: 0.0013\n",
      "Epoch [49/50], Loss: 0.0015\n",
      "Epoch [50/50], Loss: 0.0013\n"
     ]
    }
   ],
   "source": [
    "num_epochs = 50\n",
    "loss_history = []\n",
    "for epoch in range(num_epochs):\n",
    "\tmodel.train()\n",
    "\trunning_loss = 0.0\n",
    "\tfor i, (inputs, labels) in enumerate(train_loader):\n",
    "\t\tinputs, labels = inputs.to(device), labels.to(device)\n",
    "\t\t\n",
    "\t\toutputs = model(inputs)\n",
    "\t\tloss = criterion(outputs, labels)\n",
    "\t\t\n",
    "\t\toptimizer.zero_grad()\n",
    "\t\tloss.backward()\n",
    "\t\toptimizer.step()\n",
    "\t\t\n",
    "\t\trunning_loss += loss.item()\n",
    "\tavg_loss = running_loss / len(train_loader)\n",
    "\tloss_history.append(avg_loss)\n",
    "\tprint(f'Epoch [{epoch+1}/{num_epochs}], Loss: {running_loss/len(train_loader):.4f}')"
   ]
  },
  {
   "cell_type": "code",
   "execution_count": 11,
   "metadata": {},
   "outputs": [
    {
     "data": {
      "image/png": "[encoded data removed]",
      "text/plain": [
       "<Figure size 640x480 with 1 Axes>"
      ]
     },
     "metadata": {},
     "output_type": "display_data"
    }
   ],
   "source": [
    "plt.plot(loss_history, label='FFNN Loss', color='green')\n",
    "plt.title(\"FFNN Training Loss\")\n",
    "plt.xlabel(\"Epoch\")\n",
    "plt.ylabel(\"Loss\")\n",
    "plt.grid(True)\n",
    "plt.legend()\n",
    "\n",
    "plt.tight_layout()\n",
    "plt.show()"
   ]
  },
  {
   "cell_type": "code",
   "execution_count": null,
   "metadata": {},
   "outputs": [],
   "source": [
    "from sklearn.metrics import classification_report\n",
    "from tabulate import tabulate\n",
    "def evaluate(model, test_loader):\n",
    "\tmodel.eval()\n",
    "\tall_preds = []\n",
    "\tall_labels = []\n",
    "\twith torch.no_grad():\n",
    "\t\tfor inputs, labels in test_loader:\n",
    "\t\t\tinputs, labels = inputs.to(device).float(), labels.to(device).squeeze().long()\n",
    "\t\t\toutputs = model(inputs)\n",
    "\t\t\t_, predicted = torch.max(outputs.data, 1)\n",
    "\n",
    "\t\t\tall_preds.extend(predicted.cpu().numpy())\n",
    "\t\t\tall_labels.extend(labels.cpu().numpy())\n",
    "\taccuracy = 100 * sum([1 for p, l in zip(all_preds, all_labels) if p == l]) / len(all_labels)\n",
    "\treport = classification_report(all_labels, all_preds, target_names=['0', '1','2'], output_dict=True)\n",
    "\n",
    "\theaders = ['precision', 'recall', 'f1-score', 'support']\n",
    "\ttable_data = []\n",
    "\n",
    "\tfor label in ['0', '1','2']:\n",
    "\t\trow = [f\"{report[label][metric]:.2f}\" for metric in headers[:-1]]\n",
    "\t\trow.append(int(report[label]['support']))\n",
    "\t\ttable_data.append([label] + row)\n",
    "\n",
    "\ttable_data.append(['accuracy', '', '', f\"{report['accuracy']:.2f}\", len(all_labels)])\n",
    "\ttable_data.append(['macro avg'] + [f\"{report['macro avg'][metric]:.2f}\" for metric in headers[:-1]] + [int(report['macro avg']['support'])])\n",
    "\ttable_data.append(['weighted avg'] + [f\"{report['weighted avg'][metric]:.2f}\" for metric in headers[:-1]] + [int(report['weighted avg']['support'])])\n",
    "\n",
    "\tprint(f\"Test Accuracy: {accuracy/100:.4f}\")\n",
    "\tprint(\"Classification Report:\")\n",
    "\tprint(tabulate(table_data, headers=[''] + headers, tablefmt='grid', floatfmt='.2f'))\n",
    "\n",
    "\treport = classification_report(all_labels, all_preds, target_names=['0', '1','2'], output_dict=True)\n",
    "\treturn report"
   ]
  },
  {
   "cell_type": "code",
   "execution_count": null,
   "metadata": {},
   "outputs": [
    {
     "name": "stdout",
     "output_type": "stream",
     "text": [
      "Test Accuracy: 0.8021\n",
      "Classification Report:\n",
      "+--------------+-------------+----------+------------+-----------+\n",
      "|              | precision   | recall   |   f1-score |   support |\n",
      "+==============+=============+==========+============+===========+\n",
      "| 0            | 0.76        | 0.96     |       0.85 |      9711 |\n",
      "+--------------+-------------+----------+------------+-----------+\n",
      "| 1            | 0.83        | 1.00     |       0.90 |      5741 |\n",
      "+--------------+-------------+----------+------------+-----------+\n",
      "| 2            | 0.90        | 0.42     |       0.58 |      7092 |\n",
      "+--------------+-------------+----------+------------+-----------+\n",
      "| accuracy     |             |          |       0.80 |     22544 |\n",
      "+--------------+-------------+----------+------------+-----------+\n",
      "| macro avg    | 0.83        | 0.79     |       0.78 |     22544 |\n",
      "+--------------+-------------+----------+------------+-----------+\n",
      "| weighted avg | 0.82        | 0.80     |       0.78 |     22544 |\n",
      "+--------------+-------------+----------+------------+-----------+\n"
     ]
    },
    {
     "data": {
      "image/png": "[encoded data removed]",
      "text/plain": [
       "<Figure size 640x480 with 1 Axes>"
      ]
     },
     "metadata": {},
     "output_type": "display_data"
    },
    {
     "data": {
      "image/png": "[encoded data removed]",
      "text/plain": [
       "<Figure size 640x480 with 1 Axes>"
      ]
     },
     "metadata": {},
     "output_type": "display_data"
    },
    {
     "data": {
      "image/png": "[encoded data removed]",
      "text/plain": [
       "<Figure size 640x480 with 1 Axes>"
      ]
     },
     "metadata": {},
     "output_type": "display_data"
    }
   ],
   "source": [
    "report = evaluate(model, test_loader)\n",
    "metrics = ['precision', 'recall', 'f1-score']\n",
    "classes = ['0', '1']\n",
    "\n",
    "for metric in metrics:\n",
    "\tvalues = [report[cls][metric] for cls in classes]\n",
    "\tplt.bar(classes, values)\n",
    "\tplt.ylim(0, 1)\n",
    "\tplt.title(f\"{metric.title()} per class\")\n",
    "\tplt.xlabel(\"Class\")\n",
    "\tplt.ylabel(metric.title())\n",
    "\tplt.grid(True)\n",
    "\tplt.show()"
   ]
  },
  {
   "cell_type": "markdown",
   "metadata": {},
   "source": [
    "### XGBOOST ALONE"
   ]
  },
  {
   "cell_type": "code",
   "execution_count": null,
   "metadata": {},
   "outputs": [
    {
     "name": "stderr",
     "output_type": "stream",
     "text": [
      "/home/adrian/UARK/Spring_2025/NetworkSecurity/project/code/.venv/lib64/python3.11/site-packages/xgboost/training.py:183: UserWarning: [21:18:52] WARNING: /workspace/src/learner.cc:738: \n",
      "Parameters: { \"use_label_encoder\" } are not used.\n",
      "\n",
      "  bst.update(dtrain, iteration=i, fobj=obj)\n"
     ]
    },
    {
     "name": "stdout",
     "output_type": "stream",
     "text": [
      "Test Set Accuracy (XGBoost): 0.7980837473385379\n",
      "Classification Report (XGBoost):\n",
      "              precision    recall  f1-score   support\n",
      "\n",
      "           0       0.72      0.97      0.83      9711\n",
      "           1       0.89      1.00      0.94      5741\n",
      "           2       0.93      0.40      0.56      7092\n",
      "\n",
      "    accuracy                           0.80     22544\n",
      "   macro avg       0.85      0.79      0.78     22544\n",
      "weighted avg       0.83      0.80      0.77     22544\n",
      "\n"
     ]
    }
   ],
   "source": [
    "import xgboost as xgb\n",
    "from sklearn.metrics import classification_report, accuracy_score\n",
    "import numpy as np\n",
    "\n",
    "# %%\n",
    "best_params_model1 = xgb.XGBClassifier(\n",
    "\tobjective='binary:logistic',\n",
    "\teval_metric='mlogloss',\n",
    "\tuse_label_encoder=False,\n",
    "\trandom_state=42,\n",
    "\tn_jobs=-1,\n",
    "\tcolsample_bytree=np.float64(0.7159005811655073),\n",
    "\tgamma=np.float64(0.08061064362700221),\n",
    "\tlearning_rate=np.float64(0.19593953046851464),\n",
    "\tmax_depth=7,\n",
    "\tmin_child_weight=1,\n",
    "\tn_estimators=233,\n",
    "\treg_alpha=np.float64(0.22826728524145512),\n",
    "\treg_lambda=np.float64(0.2965963934951502),\n",
    "\tsubsample=np.float64(0.7666039791481465)\n",
    ")\n",
    "\n",
    "best_params_model1.fit(X_train, Y_train)\n",
    "\n",
    "# Predict and evaluate\n",
    "y_pred_feat1 = best_params_model1.predict(X_test)\n",
    "\n",
    "print(\"Test Set Accuracy (XGBoost):\", accuracy_score(Y_test, y_pred_feat1))\n",
    "print(\"Classification Report (XGBoost):\")\n",
    "print(classification_report(Y_test, y_pred_feat1, digits=2))"
   ]
  },
  {
   "cell_type": "markdown",
   "metadata": {},
   "source": [
    "### XGBOOST + FNN"
   ]
  },
  {
   "cell_type": "code",
   "execution_count": null,
   "metadata": {},
   "outputs": [],
   "source": [
    "# %%\n",
    "def extract_features(model, loader):\n",
    "\tmodel.eval()\n",
    "\tfeatures = []\n",
    "\tlabels = []\n",
    "\twith torch.no_grad():\n",
    "\t\tfor inputs, lbls in loader:\n",
    "\t\t\tinputs = inputs.to(device)\n",
    "\t\t\t# Forward pass up to second-to-last layer\n",
    "\t\t\tx = model.fc1(inputs)\n",
    "\t\t\tx = model.bn1(x)\n",
    "\t\t\tx = model.relu(x)\n",
    "\t\t\tx = model.fc2(x)\n",
    "\t\t\tx = model.bn2(x)\n",
    "\t\t\tx = model.relu(x)\n",
    "\t\t\t\n",
    "\t\t\tfeatures.append(x.cpu().numpy())\n",
    "\t\t\tlabels.extend(lbls.numpy())\n",
    "\treturn np.vstack(features), np.array(labels)\n",
    "\n",
    "# Extract features from both train and test sets\n",
    "X_train_feat, y_train_feat = extract_features(model, train_loader)\n",
    "X_test_feat, y_test_feat = extract_features(model, test_loader)"
   ]
  },
  {
   "cell_type": "code",
   "execution_count": null,
   "metadata": {},
   "outputs": [
    {
     "name": "stderr",
     "output_type": "stream",
     "text": [
      "/home/adrian/UARK/Spring_2025/NetworkSecurity/project/code/.venv/lib64/python3.11/site-packages/xgboost/training.py:183: UserWarning: [21:18:56] WARNING: /workspace/src/learner.cc:738: \n",
      "Parameters: { \"use_label_encoder\" } are not used.\n",
      "\n",
      "  bst.update(dtrain, iteration=i, fobj=obj)\n"
     ]
    },
    {
     "name": "stdout",
     "output_type": "stream",
     "text": [
      "Test Set Accuracy (FFNN + XGBoost): 0.8117015613910575\n",
      "Classification Report (FFNN + XGBoost):\n",
      "              precision    recall  f1-score   support\n",
      "\n",
      "           0      0.767     0.958     0.852      9711\n",
      "           1      0.845     0.997     0.914      5741\n",
      "           2      0.899     0.462     0.610      7092\n",
      "\n",
      "    accuracy                          0.812     22544\n",
      "   macro avg      0.837     0.805     0.792     22544\n",
      "weighted avg      0.828     0.812     0.792     22544\n",
      "\n"
     ]
    }
   ],
   "source": [
    "import xgboost as xgb\n",
    "from sklearn.metrics import classification_report, accuracy_score\n",
    "import numpy as np\n",
    "\n",
    "# %%\n",
    "best_params_model = xgb.XGBClassifier(\n",
    "\tobjective='multi:softprob',\n",
    "\tnum_class=3,\n",
    "\teval_metric='mlogloss',\n",
    "\tuse_label_encoder=False,\n",
    "\trandom_state=42,\n",
    "\tn_jobs=-1,\n",
    "\tcolsample_bytree=np.float64(0.7159005811655073),\n",
    "\tgamma=np.float64(0.08061064362700221),\n",
    "\tlearning_rate=np.float64(0.19593953046851464),\n",
    "\tmax_depth=7,\n",
    "\tmin_child_weight=1,\n",
    "\tn_estimators=233,\n",
    "\treg_alpha=np.float64(0.22826728524145512),\n",
    "\treg_lambda=np.float64(0.2965963934951502),\n",
    "\tsubsample=np.float64(0.7666039791481465)\n",
    ")\n",
    "\n",
    "best_params_model.fit(X_train_feat, y_train_feat)\n",
    "\n",
    "# Predict and evaluate\n",
    "y_pred_feat = best_params_model.predict(X_test_feat)\n",
    "\n",
    "print(\"Test Set Accuracy (FFNN + XGBoost):\", accuracy_score(y_test_feat, y_pred_feat))\n",
    "print(\"Classification Report (FFNN + XGBoost):\")\n",
    "print(classification_report(y_test_feat, y_pred_feat, digits=3))"
   ]
  }
 ],
 "metadata": {
  "kernelspec": {
   "display_name": ".venv",
   "language": "python",
   "name": "python3"
  },
  "language_info": {
   "codemirror_mode": {
    "name": "ipython",
    "version": 3
   },
   "file_extension": ".py",
   "mimetype": "text/x-python",
   "name": "python",
   "nbconvert_exporter": "python",
   "pygments_lexer": "ipython3",
   "version": "3.11.12"
  }
 },
 "nbformat": 4,
 "nbformat_minor": 2
}
