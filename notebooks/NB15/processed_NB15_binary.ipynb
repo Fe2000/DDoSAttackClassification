{
 "cells": [
  {
   "cell_type": "code",
   "execution_count": null,
   "metadata": {},
   "outputs": [],
   "source": [
    "# Forcing autoreload of modules so restart is not required\n",
    "%load_ext autoreload\n",
    "%autoreload 2\n",
    "\n",
    "import os\n",
    "\n",
    "os.chdir(\"../../\")\n",
    "\n",
    "\n",
    "print(\"Current Working Directory:  \", os.getcwd())"
   ]
  },
  {
   "cell_type": "code",
   "execution_count": null,
   "metadata": {},
   "outputs": [],
   "source": [
    "import numpy as np \n",
    "import pandas as pd\n",
    "import matplotlib.pyplot as plt\n",
    "import seaborn as sns  # plotting\n",
    "from scipy import stats\n",
    "from sklearn.preprocessing import StandardScaler\n",
    "from sklearn.preprocessing import LabelEncoder, OneHotEncoder"
   ]
  },
  {
   "cell_type": "code",
   "execution_count": null,
   "metadata": {},
   "outputs": [],
   "source": [
    "train = pd.read_csv(\"./data/staging/NB15/train.csv\")\n",
    "test = pd.read_csv(\"./data/staging/NB15/test.csv\")"
   ]
  },
  {
   "cell_type": "code",
   "execution_count": 4,
   "metadata": {},
   "outputs": [
    {
     "data": {
      "application/vnd.microsoft.datawrangler.viewer.v0+json": {
       "columns": [
        {
         "name": "index",
         "rawType": "int64",
         "type": "integer"
        },
        {
         "name": "id",
         "rawType": "int64",
         "type": "integer"
        },
        {
         "name": "dur",
         "rawType": "float64",
         "type": "float"
        },
        {
         "name": "proto",
         "rawType": "object",
         "type": "string"
        },
        {
         "name": "service",
         "rawType": "object",
         "type": "unknown"
        },
        {
         "name": "state",
         "rawType": "object",
         "type": "string"
        },
        {
         "name": "spkts",
         "rawType": "int64",
         "type": "integer"
        },
        {
         "name": "dpkts",
         "rawType": "int64",
         "type": "integer"
        },
        {
         "name": "sbytes",
         "rawType": "int64",
         "type": "integer"
        },
        {
         "name": "dbytes",
         "rawType": "int64",
         "type": "integer"
        },
        {
         "name": "rate",
         "rawType": "float64",
         "type": "float"
        },
        {
         "name": "sttl",
         "rawType": "int64",
         "type": "integer"
        },
        {
         "name": "dttl",
         "rawType": "int64",
         "type": "integer"
        },
        {
         "name": "sload",
         "rawType": "float64",
         "type": "float"
        },
        {
         "name": "dload",
         "rawType": "float64",
         "type": "float"
        },
        {
         "name": "sloss",
         "rawType": "int64",
         "type": "integer"
        },
        {
         "name": "dloss",
         "rawType": "int64",
         "type": "integer"
        },
        {
         "name": "sinpkt",
         "rawType": "float64",
         "type": "float"
        },
        {
         "name": "dinpkt",
         "rawType": "float64",
         "type": "float"
        },
        {
         "name": "sjit",
         "rawType": "float64",
         "type": "float"
        },
        {
         "name": "djit",
         "rawType": "float64",
         "type": "float"
        },
        {
         "name": "swin",
         "rawType": "int64",
         "type": "integer"
        },
        {
         "name": "stcpb",
         "rawType": "int64",
         "type": "integer"
        },
        {
         "name": "dtcpb",
         "rawType": "int64",
         "type": "integer"
        },
        {
         "name": "dwin",
         "rawType": "int64",
         "type": "integer"
        },
        {
         "name": "tcprtt",
         "rawType": "float64",
         "type": "float"
        },
        {
         "name": "synack",
         "rawType": "float64",
         "type": "float"
        },
        {
         "name": "ackdat",
         "rawType": "float64",
         "type": "float"
        },
        {
         "name": "smean",
         "rawType": "int64",
         "type": "integer"
        },
        {
         "name": "dmean",
         "rawType": "int64",
         "type": "integer"
        },
        {
         "name": "trans_depth",
         "rawType": "int64",
         "type": "integer"
        },
        {
         "name": "response_body_len",
         "rawType": "int64",
         "type": "integer"
        },
        {
         "name": "ct_srv_src",
         "rawType": "int64",
         "type": "integer"
        },
        {
         "name": "ct_state_ttl",
         "rawType": "int64",
         "type": "integer"
        },
        {
         "name": "ct_dst_ltm",
         "rawType": "int64",
         "type": "integer"
        },
        {
         "name": "ct_src_dport_ltm",
         "rawType": "int64",
         "type": "integer"
        },
        {
         "name": "ct_dst_sport_ltm",
         "rawType": "int64",
         "type": "integer"
        },
        {
         "name": "ct_dst_src_ltm",
         "rawType": "int64",
         "type": "integer"
        },
        {
         "name": "is_ftp_login",
         "rawType": "int64",
         "type": "integer"
        },
        {
         "name": "ct_ftp_cmd",
         "rawType": "int64",
         "type": "integer"
        },
        {
         "name": "ct_flw_http_mthd",
         "rawType": "int64",
         "type": "integer"
        },
        {
         "name": "ct_src_ltm",
         "rawType": "int64",
         "type": "integer"
        },
        {
         "name": "ct_srv_dst",
         "rawType": "int64",
         "type": "integer"
        },
        {
         "name": "is_sm_ips_ports",
         "rawType": "int64",
         "type": "integer"
        },
        {
         "name": "attack_cat",
         "rawType": "object",
         "type": "string"
        },
        {
         "name": "label",
         "rawType": "int64",
         "type": "integer"
        }
       ],
       "conversionMethod": "pd.DataFrame",
       "ref": "ab4d7389-b8aa-4669-a50c-2c015f3edfad",
       "rows": [
        [
         "0",
         "1",
         "0.121478",
         "tcp",
         null,
         "FIN",
         "6",
         "4",
         "258",
         "172",
         "74.08749",
         "252",
         "254",
         "14158.94238",
         "8495.365234",
         "0",
         "0",
         "24.2956",
         "8.375",
         "30.177547",
         "11.830604",
         "255",
         "621772692",
         "2202533631",
         "255",
         "0.0",
         "0.0",
         "0.0",
         "43",
         "43",
         "0",
         "0",
         "1",
         "0",
         "1",
         "1",
         "1",
         "1",
         "0",
         "0",
         "0",
         "1",
         "1",
         "0",
         "Normal",
         "0"
        ],
        [
         "1",
         "2",
         "0.649902",
         "tcp",
         null,
         "FIN",
         "14",
         "38",
         "734",
         "42014",
         "78.473372",
         "62",
         "252",
         "8395.112305",
         "503571.3125",
         "2",
         "17",
         "49.915",
         "15.432865",
         "61.426934",
         "1387.77833",
         "255",
         "1417884146",
         "3077387971",
         "255",
         "0.0",
         "0.0",
         "0.0",
         "52",
         "1106",
         "0",
         "0",
         "43",
         "1",
         "1",
         "1",
         "1",
         "2",
         "0",
         "0",
         "0",
         "1",
         "6",
         "0",
         "Normal",
         "0"
        ],
        [
         "2",
         "3",
         "1.623129",
         "tcp",
         null,
         "FIN",
         "8",
         "16",
         "364",
         "13186",
         "14.170161",
         "62",
         "252",
         "1572.271851",
         "60929.23047",
         "1",
         "6",
         "231.875571",
         "102.737203",
         "17179.58686",
         "11420.92623",
         "255",
         "2116150707",
         "2963114973",
         "255",
         "0.111897",
         "0.061458",
         "0.050439",
         "46",
         "824",
         "0",
         "0",
         "7",
         "1",
         "2",
         "1",
         "1",
         "3",
         "0",
         "0",
         "0",
         "2",
         "6",
         "0",
         "Normal",
         "0"
        ],
        [
         "3",
         "4",
         "1.681642",
         "tcp",
         "ftp",
         "FIN",
         "12",
         "12",
         "628",
         "770",
         "13.677108",
         "62",
         "252",
         "2740.178955",
         "3358.62207",
         "1",
         "3",
         "152.876547",
         "90.235726",
         "259.080172",
         "4991.784669",
         "255",
         "1107119177",
         "1047442890",
         "255",
         "0.0",
         "0.0",
         "0.0",
         "52",
         "64",
         "0",
         "0",
         "1",
         "1",
         "2",
         "1",
         "1",
         "3",
         "1",
         "1",
         "0",
         "2",
         "1",
         "0",
         "Normal",
         "0"
        ],
        [
         "4",
         "5",
         "0.449454",
         "tcp",
         null,
         "FIN",
         "10",
         "6",
         "534",
         "268",
         "33.373826",
         "254",
         "252",
         "8561.499023",
         "3987.059814",
         "2",
         "1",
         "47.750333",
         "75.659602",
         "2415.837634",
         "115.807",
         "255",
         "2436137549",
         "1977154190",
         "255",
         "0.128381",
         "0.071147",
         "0.057234",
         "53",
         "45",
         "0",
         "0",
         "43",
         "1",
         "2",
         "2",
         "1",
         "40",
         "0",
         "0",
         "0",
         "2",
         "39",
         "0",
         "Normal",
         "0"
        ]
       ],
       "shape": {
        "columns": 45,
        "rows": 5
       }
      },
      "text/html": [
       "<div>\n",
       "<style scoped>\n",
       "    .dataframe tbody tr th:only-of-type {\n",
       "        vertical-align: middle;\n",
       "    }\n",
       "\n",
       "    .dataframe tbody tr th {\n",
       "        vertical-align: top;\n",
       "    }\n",
       "\n",
       "    .dataframe thead th {\n",
       "        text-align: right;\n",
       "    }\n",
       "</style>\n",
       "<table border=\"1\" class=\"dataframe\">\n",
       "  <thead>\n",
       "    <tr style=\"text-align: right;\">\n",
       "      <th></th>\n",
       "      <th>id</th>\n",
       "      <th>dur</th>\n",
       "      <th>proto</th>\n",
       "      <th>service</th>\n",
       "      <th>state</th>\n",
       "      <th>spkts</th>\n",
       "      <th>dpkts</th>\n",
       "      <th>sbytes</th>\n",
       "      <th>dbytes</th>\n",
       "      <th>rate</th>\n",
       "      <th>...</th>\n",
       "      <th>ct_dst_sport_ltm</th>\n",
       "      <th>ct_dst_src_ltm</th>\n",
       "      <th>is_ftp_login</th>\n",
       "      <th>ct_ftp_cmd</th>\n",
       "      <th>ct_flw_http_mthd</th>\n",
       "      <th>ct_src_ltm</th>\n",
       "      <th>ct_srv_dst</th>\n",
       "      <th>is_sm_ips_ports</th>\n",
       "      <th>attack_cat</th>\n",
       "      <th>label</th>\n",
       "    </tr>\n",
       "  </thead>\n",
       "  <tbody>\n",
       "    <tr>\n",
       "      <th>0</th>\n",
       "      <td>1</td>\n",
       "      <td>0.121478</td>\n",
       "      <td>tcp</td>\n",
       "      <td>NaN</td>\n",
       "      <td>FIN</td>\n",
       "      <td>6</td>\n",
       "      <td>4</td>\n",
       "      <td>258</td>\n",
       "      <td>172</td>\n",
       "      <td>74.087490</td>\n",
       "      <td>...</td>\n",
       "      <td>1</td>\n",
       "      <td>1</td>\n",
       "      <td>0</td>\n",
       "      <td>0</td>\n",
       "      <td>0</td>\n",
       "      <td>1</td>\n",
       "      <td>1</td>\n",
       "      <td>0</td>\n",
       "      <td>Normal</td>\n",
       "      <td>0</td>\n",
       "    </tr>\n",
       "    <tr>\n",
       "      <th>1</th>\n",
       "      <td>2</td>\n",
       "      <td>0.649902</td>\n",
       "      <td>tcp</td>\n",
       "      <td>NaN</td>\n",
       "      <td>FIN</td>\n",
       "      <td>14</td>\n",
       "      <td>38</td>\n",
       "      <td>734</td>\n",
       "      <td>42014</td>\n",
       "      <td>78.473372</td>\n",
       "      <td>...</td>\n",
       "      <td>1</td>\n",
       "      <td>2</td>\n",
       "      <td>0</td>\n",
       "      <td>0</td>\n",
       "      <td>0</td>\n",
       "      <td>1</td>\n",
       "      <td>6</td>\n",
       "      <td>0</td>\n",
       "      <td>Normal</td>\n",
       "      <td>0</td>\n",
       "    </tr>\n",
       "    <tr>\n",
       "      <th>2</th>\n",
       "      <td>3</td>\n",
       "      <td>1.623129</td>\n",
       "      <td>tcp</td>\n",
       "      <td>NaN</td>\n",
       "      <td>FIN</td>\n",
       "      <td>8</td>\n",
       "      <td>16</td>\n",
       "      <td>364</td>\n",
       "      <td>13186</td>\n",
       "      <td>14.170161</td>\n",
       "      <td>...</td>\n",
       "      <td>1</td>\n",
       "      <td>3</td>\n",
       "      <td>0</td>\n",
       "      <td>0</td>\n",
       "      <td>0</td>\n",
       "      <td>2</td>\n",
       "      <td>6</td>\n",
       "      <td>0</td>\n",
       "      <td>Normal</td>\n",
       "      <td>0</td>\n",
       "    </tr>\n",
       "    <tr>\n",
       "      <th>3</th>\n",
       "      <td>4</td>\n",
       "      <td>1.681642</td>\n",
       "      <td>tcp</td>\n",
       "      <td>ftp</td>\n",
       "      <td>FIN</td>\n",
       "      <td>12</td>\n",
       "      <td>12</td>\n",
       "      <td>628</td>\n",
       "      <td>770</td>\n",
       "      <td>13.677108</td>\n",
       "      <td>...</td>\n",
       "      <td>1</td>\n",
       "      <td>3</td>\n",
       "      <td>1</td>\n",
       "      <td>1</td>\n",
       "      <td>0</td>\n",
       "      <td>2</td>\n",
       "      <td>1</td>\n",
       "      <td>0</td>\n",
       "      <td>Normal</td>\n",
       "      <td>0</td>\n",
       "    </tr>\n",
       "    <tr>\n",
       "      <th>4</th>\n",
       "      <td>5</td>\n",
       "      <td>0.449454</td>\n",
       "      <td>tcp</td>\n",
       "      <td>NaN</td>\n",
       "      <td>FIN</td>\n",
       "      <td>10</td>\n",
       "      <td>6</td>\n",
       "      <td>534</td>\n",
       "      <td>268</td>\n",
       "      <td>33.373826</td>\n",
       "      <td>...</td>\n",
       "      <td>1</td>\n",
       "      <td>40</td>\n",
       "      <td>0</td>\n",
       "      <td>0</td>\n",
       "      <td>0</td>\n",
       "      <td>2</td>\n",
       "      <td>39</td>\n",
       "      <td>0</td>\n",
       "      <td>Normal</td>\n",
       "      <td>0</td>\n",
       "    </tr>\n",
       "  </tbody>\n",
       "</table>\n",
       "<p>5 rows × 45 columns</p>\n",
       "</div>"
      ],
      "text/plain": [
       "   id       dur proto service state  spkts  dpkts  sbytes  dbytes       rate  \\\n",
       "0   1  0.121478   tcp     NaN   FIN      6      4     258     172  74.087490   \n",
       "1   2  0.649902   tcp     NaN   FIN     14     38     734   42014  78.473372   \n",
       "2   3  1.623129   tcp     NaN   FIN      8     16     364   13186  14.170161   \n",
       "3   4  1.681642   tcp     ftp   FIN     12     12     628     770  13.677108   \n",
       "4   5  0.449454   tcp     NaN   FIN     10      6     534     268  33.373826   \n",
       "\n",
       "   ...  ct_dst_sport_ltm  ct_dst_src_ltm  is_ftp_login  ct_ftp_cmd  \\\n",
       "0  ...                 1               1             0           0   \n",
       "1  ...                 1               2             0           0   \n",
       "2  ...                 1               3             0           0   \n",
       "3  ...                 1               3             1           1   \n",
       "4  ...                 1              40             0           0   \n",
       "\n",
       "   ct_flw_http_mthd  ct_src_ltm  ct_srv_dst  is_sm_ips_ports  attack_cat  \\\n",
       "0                 0           1           1                0      Normal   \n",
       "1                 0           1           6                0      Normal   \n",
       "2                 0           2           6                0      Normal   \n",
       "3                 0           2           1                0      Normal   \n",
       "4                 0           2          39                0      Normal   \n",
       "\n",
       "   label  \n",
       "0      0  \n",
       "1      0  \n",
       "2      0  \n",
       "3      0  \n",
       "4      0  \n",
       "\n",
       "[5 rows x 45 columns]"
      ]
     },
     "execution_count": 4,
     "metadata": {},
     "output_type": "execute_result"
    }
   ],
   "source": [
    "train.head()"
   ]
  },
  {
   "cell_type": "code",
   "execution_count": 6,
   "metadata": {},
   "outputs": [
    {
     "name": "stdout",
     "output_type": "stream",
     "text": [
      "Train Attack Category Counts:\n",
      "attack_cat\n",
      "Normal            56000\n",
      "Generic           40000\n",
      "Exploits          33393\n",
      "Fuzzers           18184\n",
      "DoS               12264\n",
      "Reconnaissance    10491\n",
      "Analysis           2000\n",
      "Backdoor           1746\n",
      "Shellcode          1133\n",
      "Worms               130\n",
      "Name: count, dtype: int64\n",
      "\n",
      "Test Attack Category Counts:\n",
      "attack_cat\n",
      "Normal            37000\n",
      "Generic           18871\n",
      "Exploits          11132\n",
      "Fuzzers            6062\n",
      "DoS                4089\n",
      "Reconnaissance     3496\n",
      "Analysis            677\n",
      "Backdoor            583\n",
      "Shellcode           378\n",
      "Worms                44\n",
      "Name: count, dtype: int64\n"
     ]
    }
   ],
   "source": [
    "print(\"Train Attack Category Counts:\")\n",
    "print(train['attack_cat'].value_counts())\n",
    "print(\"\\nTest Attack Category Counts:\")\n",
    "print(test['attack_cat'].value_counts())\n"
   ]
  },
  {
   "cell_type": "code",
   "execution_count": 5,
   "metadata": {},
   "outputs": [
    {
     "name": "stdout",
     "output_type": "stream",
     "text": [
      "['Normal' 'Backdoor' 'Analysis' 'Fuzzers' 'Shellcode' 'Reconnaissance'\n",
      " 'Exploits' 'DoS' 'Worms' 'Generic']\n",
      "['Normal' 'Reconnaissance' 'Backdoor' 'DoS' 'Exploits' 'Analysis'\n",
      " 'Fuzzers' 'Worms' 'Shellcode' 'Generic']\n"
     ]
    }
   ],
   "source": [
    "print(train['attack_cat'].unique())\n",
    "print(test['attack_cat'].unique())"
   ]
  },
  {
   "cell_type": "code",
   "execution_count": null,
   "metadata": {},
   "outputs": [],
   "source": [
    "print(len(train))\n",
    "print(len(test))"
   ]
  },
  {
   "cell_type": "code",
   "execution_count": null,
   "metadata": {},
   "outputs": [],
   "source": [
    "train = train[train['attack_cat'].isin(['Normal', 'DoS'])]\n",
    "test = test[test['attack_cat'].isin(['Normal', 'DoS'])]"
   ]
  },
  {
   "cell_type": "code",
   "execution_count": null,
   "metadata": {},
   "outputs": [],
   "source": [
    "train.head()"
   ]
  },
  {
   "cell_type": "code",
   "execution_count": null,
   "metadata": {},
   "outputs": [],
   "source": [
    "print(len(train))\n",
    "print(len(test))"
   ]
  },
  {
   "cell_type": "code",
   "execution_count": null,
   "metadata": {},
   "outputs": [],
   "source": [
    "print(train['attack_cat'].unique())\n",
    "print(test['attack_cat'].unique())"
   ]
  },
  {
   "cell_type": "code",
   "execution_count": null,
   "metadata": {},
   "outputs": [],
   "source": [
    "X_train, Y_train = train.drop(columns=['label']), train['label']\n",
    "X_test, Y_test = test.drop(columns=['label']), test['label']"
   ]
  },
  {
   "cell_type": "code",
   "execution_count": null,
   "metadata": {},
   "outputs": [],
   "source": [
    "x_train = set(X_train.columns.tolist())\n",
    "x_test = set(X_test.columns.tolist())\n",
    "\n",
    "diff_train = x_train - x_test  \n",
    "diff_test = x_test - x_train\n",
    "\n",
    "print(\"Columns in X_train but not in X_test:\", diff_train)\n",
    "print(\"Columns in X_test but not in X_train:\", diff_test)\n",
    "\n",
    "print(X_train.shape, X_test.shape)"
   ]
  },
  {
   "cell_type": "code",
   "execution_count": null,
   "metadata": {},
   "outputs": [],
   "source": [
    "print(train.dtypes.value_counts())\n",
    "print(test.dtypes.value_counts())"
   ]
  },
  {
   "cell_type": "code",
   "execution_count": null,
   "metadata": {},
   "outputs": [],
   "source": [
    "print(train.select_dtypes(exclude=np.number).columns)\n",
    "print(test.select_dtypes(exclude=np.number).columns)\n"
   ]
  },
  {
   "cell_type": "code",
   "execution_count": null,
   "metadata": {},
   "outputs": [],
   "source": [
    "categories_col = ['proto', 'service', 'state','attack_cat']\n",
    "num_col_train = list(set(X_train.columns) - set(categories_col))\n",
    "num_col_test = list(set(X_test.columns) - set(categories_col))"
   ]
  },
  {
   "cell_type": "code",
   "execution_count": null,
   "metadata": {},
   "outputs": [],
   "source": [
    "scaler = StandardScaler()\n",
    "scaler.fit(X_train[num_col_train])"
   ]
  },
  {
   "cell_type": "code",
   "execution_count": null,
   "metadata": {},
   "outputs": [],
   "source": [
    "X_train[num_col_train] = scaler.transform(X_train[num_col_train])\n",
    "X_test[num_col_test] = scaler.transform(X_test[num_col_test])"
   ]
  },
  {
   "cell_type": "code",
   "execution_count": null,
   "metadata": {},
   "outputs": [],
   "source": [
    "X_train.drop('attack_cat',axis=1,inplace=True)\n",
    "X_test.drop('attack_cat',axis=1,inplace=True)"
   ]
  },
  {
   "cell_type": "code",
   "execution_count": null,
   "metadata": {},
   "outputs": [],
   "source": [
    "X_train.head()"
   ]
  },
  {
   "cell_type": "code",
   "execution_count": null,
   "metadata": {},
   "outputs": [],
   "source": [
    "X_test.head()"
   ]
  },
  {
   "cell_type": "code",
   "execution_count": null,
   "metadata": {},
   "outputs": [],
   "source": [
    "service_ohe = OneHotEncoder(handle_unknown=\"ignore\")\n",
    "proto_ohe = OneHotEncoder(handle_unknown=\"ignore\")\n",
    "state_ohe = OneHotEncoder(handle_unknown=\"ignore\")\n",
    "\n",
    "ohe_service_train = service_ohe.fit(X_train[['service']])\n",
    "ohe_proto_train = proto_ohe.fit(X_train[['proto']])\n",
    "ohe_state_train = state_ohe.fit(X_train[['state']])\n",
    "\n",
    "X_train_service = pd.DataFrame(ohe_service_train.transform(X_train[['service']]).todense(), \n",
    "\t\t\t\t\t\t\t   columns=ohe_service_train.get_feature_names_out(['service']))\n",
    "X_train_proto = pd.DataFrame(ohe_proto_train.transform(X_train[['proto']]).todense(), \n",
    "\t\t\t\t\t\t\t columns=ohe_proto_train.get_feature_names_out(['proto']))\n",
    "X_train_state = pd.DataFrame(ohe_state_train.transform(X_train[['state']]).todense(), \n",
    "\t\t\t\t\t\t\t columns=ohe_state_train.get_feature_names_out(['state']))\n",
    "\n",
    "X_train = X_train.drop(['service', 'proto', 'state'], axis=1)\n",
    "X_train = pd.concat([X_train, X_train_service, X_train_proto, X_train_state], axis=1)\n",
    "\n",
    "X_test_service = pd.DataFrame(ohe_service_train.transform(X_test[['service']]).todense(), \n",
    "\t\t\t\t\t\t\t  columns=ohe_service_train.get_feature_names_out(['service']))\n",
    "X_test_proto = pd.DataFrame(ohe_proto_train.transform(X_test[['proto']]).todense(), \n",
    "\t\t\t\t\t\t\tcolumns=ohe_proto_train.get_feature_names_out(['proto']))\n",
    "X_test_state = pd.DataFrame(ohe_state_train.transform(X_test[['state']]).todense(), \n",
    "\t\t\t\t\t\t\tcolumns=ohe_state_train.get_feature_names_out(['state']))\n",
    "\n",
    "X_test = X_test.drop(['service', 'proto', 'state'], axis=1)\n",
    "X_test = pd.concat([X_test, X_test_service, X_test_proto, X_test_state], axis=1)"
   ]
  },
  {
   "cell_type": "code",
   "execution_count": null,
   "metadata": {},
   "outputs": [],
   "source": [
    "X_train.head()"
   ]
  },
  {
   "cell_type": "code",
   "execution_count": null,
   "metadata": {},
   "outputs": [],
   "source": [
    "X_test.head()"
   ]
  },
  {
   "cell_type": "code",
   "execution_count": null,
   "metadata": {},
   "outputs": [],
   "source": [
    "X_train = X_train.dropna()\n",
    "Y_train = Y_train.loc[X_train.index] \n",
    "\n",
    "X_test = X_test.dropna()\n",
    "Y_test = Y_test.loc[X_test.index]"
   ]
  },
  {
   "cell_type": "code",
   "execution_count": null,
   "metadata": {},
   "outputs": [],
   "source": [
    "x_train = set(X_train.columns.tolist())\n",
    "x_test = set(X_test.columns.tolist())\n",
    "\n",
    "diff_train = x_train - x_test \n",
    "diff_test = x_test - x_train\n",
    "\n",
    "print(\"Columns in X_train but not in X_test:\", diff_train)\n",
    "print(\"Columns in X_test but not in X_train:\", diff_test)\n",
    "\n",
    "print(X_train.shape, X_test.shape)"
   ]
  },
  {
   "cell_type": "code",
   "execution_count": null,
   "metadata": {},
   "outputs": [],
   "source": [
    "Y_train = Y_train.to_frame()\n",
    "Y_test = Y_test.to_frame()\n",
    "\n",
    "type(Y_test)"
   ]
  },
  {
   "cell_type": "code",
   "execution_count": null,
   "metadata": {},
   "outputs": [],
   "source": [
    "Y_train['label'].unique()"
   ]
  },
  {
   "cell_type": "code",
   "execution_count": null,
   "metadata": {},
   "outputs": [],
   "source": [
    "Y_test['label'].unique()"
   ]
  },
  {
   "cell_type": "code",
   "execution_count": null,
   "metadata": {},
   "outputs": [],
   "source": [
    "X_train.to_csv('./data/processed/NB15/binary/X_train.csv', index=False)\n",
    "Y_train.to_csv('./data/processed/NB15/binary/Y_train.csv', index=False)"
   ]
  },
  {
   "cell_type": "code",
   "execution_count": null,
   "metadata": {},
   "outputs": [],
   "source": [
    "X_test.to_csv('./data/processed/NB15/binary/X_test.csv', index=False)\n",
    "Y_test.to_csv('./data/processed/NB15/binary/Y_test.csv', index=False)"
   ]
  }
 ],
 "metadata": {
  "kernelspec": {
   "display_name": ".venv",
   "language": "python",
   "name": "python3"
  },
  "language_info": {
   "codemirror_mode": {
    "name": "ipython",
    "version": 3
   },
   "file_extension": ".py",
   "mimetype": "text/x-python",
   "name": "python",
   "nbconvert_exporter": "python",
   "pygments_lexer": "ipython3",
   "version": "3.11.12"
  }
 },
 "nbformat": 4,
 "nbformat_minor": 2
}
