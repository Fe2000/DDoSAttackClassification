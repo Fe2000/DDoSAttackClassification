{
  "cells": [
    {
      "cell_type": "code",
      "execution_count": 16,
      "metadata": {
        "id": "guam2VKSpVum"
      },
      "outputs": [],
      "source": [
        "import pandas as pd\n",
        "import numpy as np\n",
        "from sklearn.model_selection import train_test_split\n",
        "from sklearn.preprocessing import LabelEncoder, StandardScaler\n",
        "import torch\n",
        "import torch.nn as nn\n",
        "import torch.optim as optim\n",
        "from torch.utils.data import DataLoader, TensorDataset"
      ]
    },
    {
      "cell_type": "code",
      "execution_count": 17,
      "metadata": {
        "id": "UH5tZL2j2EMW"
      },
      "outputs": [],
      "source": [
        "from scipy.io import arff\n",
        "\n",
        "arff_file = arff.loadarff('/content/KDDTrain+.arff')\n",
        "df = pd.DataFrame(arff_file[0])\n"
      ]
    },
    {
      "cell_type": "code",
      "execution_count": null,
      "metadata": {
        "colab": {
          "base_uri": "https://localhost:8080/"
        },
        "id": "9bk8nkSmXtvx",
        "outputId": "910792c8-755a-4e46-b2ae-35bad3e5a6a8"
      },
      "outputs": [],
      "source": [
        "print(df.dtypes)"
      ]
    },
    {
      "cell_type": "code",
      "execution_count": null,
      "metadata": {
        "colab": {
          "base_uri": "https://localhost:8080/",
          "height": 444
        },
        "id": "iACFf_VTZ-BK",
        "outputId": "e200fd7d-56fb-4f3c-c7c1-839b5357b8a6"
      },
      "outputs": [],
      "source": [
        "df"
      ]
    },
    {
      "cell_type": "code",
      "execution_count": null,
      "metadata": {
        "id": "zKueUG2B4xB1"
      },
      "outputs": [],
      "source": [
        "df.columns = df.columns.astype(str)\n",
        "\n",
        "\n",
        "X = df.iloc[:, :-1]\n",
        "y = df.iloc[:, -1]\n",
        "\n",
        "label_encoder = LabelEncoder()\n",
        "y = label_encoder.fit_transform(y)\n",
        "\n",
        "X = pd.get_dummies(X, drop_first=True)"
      ]
    },
    {
      "cell_type": "code",
      "execution_count": null,
      "metadata": {
        "colab": {
          "base_uri": "https://localhost:8080/",
          "height": 444
        },
        "id": "Pkm1GAe54xta",
        "outputId": "40182115-e358-486d-f770-2fe67841e8b1"
      },
      "outputs": [],
      "source": [
        "X"
      ]
    },
    {
      "cell_type": "code",
      "execution_count": null,
      "metadata": {
        "colab": {
          "base_uri": "https://localhost:8080/"
        },
        "id": "Zxz57a8w43yL",
        "outputId": "6b9b516d-3bca-466e-b3ba-95ec255b850f"
      },
      "outputs": [],
      "source": [
        "y"
      ]
    },
    {
      "cell_type": "code",
      "execution_count": null,
      "metadata": {
        "id": "SiLOZdIapOeI"
      },
      "outputs": [],
      "source": [
        "scaler = StandardScaler()\n",
        "X = scaler.fit_transform(X)\n",
        "\n",
        "X_tensor = torch.tensor(X, dtype=torch.float32)\n",
        "y_tensor = torch.tensor(y, dtype=torch.long)\n",
        "\n",
        "X_train, X_test, y_train, y_test = train_test_split(X_tensor, y_tensor, test_size=0.2, random_state=42)\n",
        "\n",
        "train_dataset = TensorDataset(X_train, y_train)\n",
        "test_dataset = TensorDataset(X_test, y_test)\n",
        "\n",
        "train_loader = DataLoader(train_dataset, batch_size=32, shuffle=True)\n",
        "test_loader = DataLoader(test_dataset, batch_size=32, shuffle=False)\n"
      ]
    },
    {
      "cell_type": "code",
      "execution_count": null,
      "metadata": {
        "id": "YaRTlThnpOaz"
      },
      "outputs": [],
      "source": [
        "class Classifier(nn.Module):\n",
        "\tdef __init__(self, input_size):\n",
        "\t\tsuper(Classifier, self).__init__()\n",
        "\t\tself.fc1 = nn.Linear(input_size, 128)\n",
        "\t\tself.fc2 = nn.Linear(128, 64)\n",
        "\t\tself.fc3 = nn.Linear(64, 2)\n",
        "\t\tself.relu = nn.ReLU()\n",
        "\t\tself.dropout = nn.Dropout(0.3)\n",
        "\n",
        "\tdef forward(self, x):\n",
        "\t\tx = self.relu(self.fc1(x))\n",
        "\t\tx = self.dropout(x)\n",
        "\t\tx = self.relu(self.fc2(x))\n",
        "\t\tx = self.dropout(x)\n",
        "\t\tx = self.fc3(x)\n",
        "\t\treturn x\n",
        "\n",
        "input_size = X.shape[1]\n",
        "model = Classifier(input_size)\n"
      ]
    },
    {
      "cell_type": "code",
      "execution_count": 25,
      "metadata": {
        "id": "bLyqfVTupOXX"
      },
      "outputs": [],
      "source": [
        "criterion = nn.CrossEntropyLoss()\n",
        "optimizer = optim.Adam(model.parameters(), lr=0.001)"
      ]
    },
    {
      "cell_type": "code",
      "execution_count": null,
      "metadata": {
        "colab": {
          "base_uri": "https://localhost:8080/"
        },
        "id": "-JghJfyXpOTJ",
        "outputId": "a87882ea-19db-41e7-e599-0f1552a94fd8"
      },
      "outputs": [],
      "source": [
        "num_epochs = 20\n",
        "\n",
        "for epoch in range(num_epochs):\n",
        "\tmodel.train()\n",
        "\ttotal_loss = 0\n",
        "\tcorrect = 0\n",
        "\ttotal = 0\n",
        "\n",
        "\tfor inputs, labels in train_loader:\n",
        "\t\toptimizer.zero_grad()\n",
        "\t\toutputs = model(inputs)\n",
        "\t\tloss = criterion(outputs, labels)\n",
        "\t\tloss.backward()\n",
        "\t\toptimizer.step()\n",
        "\n",
        "\t\ttotal_loss += loss.item()\n",
        "\t\t_, predicted = torch.max(outputs, 1)\n",
        "\t\ttotal += labels.size(0)\n",
        "\t\tcorrect += (predicted == labels).sum().item()\n",
        "\n",
        "\taccuracy = 100 * correct / total\n",
        "\tprint(f'Epoch [{epoch+1}/{num_epochs}], Loss: {total_loss:.4f}, Accuracy: {accuracy:.2f}%')\n"
      ]
    }
  ],
  "metadata": {
    "accelerator": "GPU",
    "colab": {
      "gpuType": "T4",
      "provenance": []
    },
    "kernelspec": {
      "display_name": "Python 3",
      "name": "python3"
    },
    "language_info": {
      "name": "python"
    }
  },
  "nbformat": 4,
  "nbformat_minor": 0
}
